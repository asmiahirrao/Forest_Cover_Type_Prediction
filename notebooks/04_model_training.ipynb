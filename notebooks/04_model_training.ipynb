{
 "cells": [
  {
   "cell_type": "code",
   "execution_count": 1,
   "id": "b0772297-4dfe-4904-8aa5-193624b5ca24",
   "metadata": {},
   "outputs": [
    {
     "name": "stdout",
     "output_type": "stream",
     "text": [
      "(12096, 55)\n",
      "(12096,)\n"
     ]
    },
    {
     "data": {
      "text/plain": [
       "['C:/Users/aahir/OneDrive/Desktop/y.pkl']"
      ]
     },
     "execution_count": 1,
     "metadata": {},
     "output_type": "execute_result"
    }
   ],
   "source": [
    "from sklearn.model_selection import train_test_split\n",
    "import pandas as pd\n",
    "import joblib\n",
    "\n",
    "# Load the dataset\n",
    "df = pd.read_csv('../data/forest_cover_data.csv')\n",
    "\n",
    "# Separate target and features\n",
    "X = df.drop('Cover_Type', axis=1)\n",
    "y = df['Cover_Type']\n",
    "\n",
    "# Split data into training and test sets\n",
    "X_train, X_test, y_train, y_test = train_test_split(X, y, test_size=0.2, random_state=42)\n",
    "print(X_train.shape)\n",
    "print(y_train.shape)\n",
    "from sklearn.ensemble import RandomForestClassifier\n",
    "\n",
    "# Initialize model\n",
    "model = RandomForestClassifier(random_state=42)\n",
    "\n",
    "# Train model\n",
    "model.fit(X_train, y_train)\n",
    "import joblib\n",
    "\n",
    "# Save the trained model\n",
    "joblib.dump(model, r'C:/Users/aahir/OneDrive/Desktop/random_forest_model.pkl')\n",
    "\n",
    "import joblib\n",
    "\n",
    "# Save X_test\n",
    "joblib.dump(X_test, 'C:/Users/aahir/OneDrive/Desktop/X_test.pkl')\n",
    "import joblib\n",
    "\n",
    "# Save y_test\n",
    "joblib.dump(y_test, 'C:/Users/aahir/OneDrive/Desktop/y_test.pkl')\n",
    "import joblib\n",
    "\n",
    "# After you define X and y in Notebook 04\n",
    "joblib.dump(X, 'C:/Users/aahir/OneDrive/Desktop/X.pkl')\n",
    "joblib.dump(y, 'C:/Users/aahir/OneDrive/Desktop/y.pkl')\n",
    "\n",
    "\n"
   ]
  },
  {
   "cell_type": "code",
   "execution_count": null,
   "id": "f9ca4bdd-496e-48e7-ae8e-224457949b4c",
   "metadata": {},
   "outputs": [],
   "source": []
  }
 ],
 "metadata": {
  "kernelspec": {
   "display_name": "Python 3 (ipykernel)",
   "language": "python",
   "name": "python3"
  },
  "language_info": {
   "codemirror_mode": {
    "name": "ipython",
    "version": 3
   },
   "file_extension": ".py",
   "mimetype": "text/x-python",
   "name": "python",
   "nbconvert_exporter": "python",
   "pygments_lexer": "ipython3",
   "version": "3.11.5"
  }
 },
 "nbformat": 4,
 "nbformat_minor": 5
}
